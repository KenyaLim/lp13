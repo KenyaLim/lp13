{
 "cells": [
  {
   "cell_type": "code",
   "execution_count": null,
   "metadata": {},
   "outputs": [],
   "source": [
    "n = int(input('Masukkan jumlah kategori = '))\n",
    "dataapl = {}\n",
    "for i in range(n):\n",
    "    kategori=input('Masukkan kategori = ')\n",
    "    print('Masukkan 5 nama aplikasi di kategori', kategori)\n",
    "    apl = []\n",
    "    for j in range(5):\n",
    "        namaapl = input('Nama aplikasi =')\n",
    "        apl.append(namaapl)\n",
    "    dataapl[kategori] = apl\n",
    "print(dataapl)\n",
    "\n",
    "daftarapl=[]\n",
    "for apl in dataapl.values():\n",
    "    daftarapl.append(set(apl))\n",
    "print(daftarapl)\n",
    "\n",
    "unik = set()\n",
    "for i in range(len(dataapl)):\n",
    "    for i in range(len(daftarapl)):\n",
    "        for j in range(i +1, len(daftarapl)):\n",
    "            unik.update(daftarapl[i]^(daftarapl[j]))\n",
    "print('-Aplikasi yang muncul satu kategori',unik)\n",
    "\n",
    "dua =set()\n",
    "for i in range(len(dataapl)):\n",
    "    for i in range(len(daftarapl)):\n",
    "        for j in range(i +1, len(daftarapl)):\n",
    "            dua.update(daftarapl[i]&(daftarapl[j]))\n",
    "print('-Aplikasi yang muncul dua kategori',dua)"
   ]
  },
  {
   "cell_type": "code",
   "execution_count": 12,
   "metadata": {},
   "outputs": [
    {
     "name": "stdout",
     "output_type": "stream",
     "text": [
      "list sebelum jadi set =  [1, 2, 3, 4, 4, 7, 5, 10, 9, -1, 5000]\n",
      "list jadi set =  {1, 2, 3, 4, 5, 7, 5000, 9, 10, -1}\n",
      "set jadi list =  [1, 2, 3, 4, 5, 7, 5000, 9, 10, -1]\n",
      "\n",
      "tuple sebelum jadi set =  (1, 2, 3, 4, 5)\n",
      "tuple jadi set =  {1, 2, 3, 4, 5}\n",
      "set jadi tuple =  (1, 2, 3, 4, 5)\n"
     ]
    }
   ],
   "source": [
    "#konversi list menjadi set, set menjadi list, tuple menjadi set, set menjadi tuple\n",
    "list1 = [1,2,3,4,4,7,5,10,9,-1,5000]\n",
    "print('list sebelum jadi set = ',list1)\n",
    "set1 = set(list1)\n",
    "print('list jadi set = ',set1)\n",
    "list2 = list(set1)\n",
    "print('set jadi list = ',list2)\n",
    "\n",
    "tuple1 = (1,2,3,4,5)\n",
    "print('\\ntuple sebelum jadi set = ',tuple1)\n",
    "set2 = set(tuple1)\n",
    "print('tuple jadi set = ',set2)\n",
    "\n",
    "tuple2 = tuple(set2)\n",
    "print('set jadi tuple = ',tuple2)"
   ]
  },
  {
   "cell_type": "code",
   "execution_count": 5,
   "metadata": {},
   "outputs": [
    {
     "name": "stdout",
     "output_type": "stream",
     "text": [
      "kata yang muncul di dua file = \n",
      "selalu\n",
      "sana\n",
      "kita\n",
      "memilihmu\n",
      "di\n",
      "tak\n",
      "aku\n",
      "mau\n",
      "kan\n",
      "ku\n",
      "pernah\n",
      "satu\n",
      "lagi\n",
      "hatiku\n",
      "sini\n",
      "akan\n",
      "meski\n",
      "engkau\n",
      "apa\n"
     ]
    }
   ],
   "source": [
    "#dapat membaca dua file teks dan menampilkan semua kata2 yang muncul pada kedua file teks, nama file input user, eror jika file tidak dibaca, semua kata lowercase\n",
    "def coba (file1, file2):\n",
    "    try:\n",
    "        with open(file1,'r') as f1, open(file2,'r') as f2:\n",
    "            kata1 = set(f1.read().lower().split())\n",
    "            kata2 = set(f2.read().lower().split())\n",
    "            muncul2 = kata1 & kata2\n",
    "            if muncul2:\n",
    "                print(\"kata yang muncul di dua file = \")\n",
    "                print('\\n'.join(muncul2))\n",
    "            else:\n",
    "                print(\"tidak ada kata yang muncul di dua file\")\n",
    "    except:\n",
    "        print(\"file tidak ditemukan\")\n",
    "\n",
    "file1 = input(\"masukkan file 1 = \")\n",
    "file2 = input(\"masukkan file 2 = \")\n",
    "coba(file1, file2)"
   ]
  }
 ],
 "metadata": {
  "kernelspec": {
   "display_name": "Python 3",
   "language": "python",
   "name": "python3"
  },
  "language_info": {
   "codemirror_mode": {
    "name": "ipython",
    "version": 3
   },
   "file_extension": ".py",
   "mimetype": "text/x-python",
   "name": "python",
   "nbconvert_exporter": "python",
   "pygments_lexer": "ipython3",
   "version": "3.12.3"
  }
 },
 "nbformat": 4,
 "nbformat_minor": 2
}
